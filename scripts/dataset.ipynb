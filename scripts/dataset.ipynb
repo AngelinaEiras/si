{
 "cells": [
  {
   "cell_type": "markdown",
   "metadata": {
    "collapsed": false
   },
   "source": [
    "## SIB - P1\n",
    "\n",
    "A Jupyter Notebook with examples of how to use the Dataset object.\n",
    "26/09/2022"
   ]
  },
  {
   "cell_type": "code",
   "execution_count": 9,
   "metadata": {
    "collapsed": false
   },
   "outputs": [
    {
     "data": {
      "text/plain": [
       "(150, 30)"
      ]
     },
     "execution_count": 9,
     "metadata": {},
     "output_type": "execute_result"
    }
   ],
   "source": [
    "from si.data.dataset import Dataset\n",
    "import numpy as np\n",
    "\n",
    "# create a dataset\n",
    "X = np.random.rand(150, 30)\n",
    "y = np.random.randint(0, 2, 150)\n",
    "dataset = Dataset(X, y)\n",
    "dataset.shape()"
   ]
  },
  {
   "cell_type": "code",
   "execution_count": 10,
   "metadata": {
    "collapsed": false
   },
   "outputs": [
    {
     "data": {
      "text/plain": [
       "array([[0.29937184, 0.29088345, 0.8745502 , ..., 0.22652198, 0.13422765,\n",
       "        0.84920656],\n",
       "       [0.89594306, 0.49564595, 0.5010191 , ..., 0.71892298, 0.0677103 ,\n",
       "        0.39648797],\n",
       "       [0.7647394 , 0.47330781, 0.92228641, ..., 0.99522226, 0.59584001,\n",
       "        0.52370577],\n",
       "       ...,\n",
       "       [0.7669066 , 0.49119239, 0.56470705, ..., 0.85769364, 0.25500284,\n",
       "        0.22049777],\n",
       "       [0.05696413, 0.34402158, 0.24760902, ..., 0.3950474 , 0.71457077,\n",
       "        0.15403229],\n",
       "       [0.0988337 , 0.18255341, 0.94677667, ..., 0.48246431, 0.65026094,\n",
       "        0.77748545]])"
      ]
     },
     "execution_count": 10,
     "metadata": {},
     "output_type": "execute_result"
    }
   ],
   "source": [
    "# get the X\n",
    "dataset.X"
   ]
  },
  {
   "cell_type": "code",
   "execution_count": 11,
   "metadata": {
    "collapsed": false
   },
   "outputs": [
    {
     "data": {
      "text/plain": [
       "['0',\n",
       " '1',\n",
       " '2',\n",
       " '3',\n",
       " '4',\n",
       " '5',\n",
       " '6',\n",
       " '7',\n",
       " '8',\n",
       " '9',\n",
       " '10',\n",
       " '11',\n",
       " '12',\n",
       " '13',\n",
       " '14',\n",
       " '15',\n",
       " '16',\n",
       " '17',\n",
       " '18',\n",
       " '19',\n",
       " '20',\n",
       " '21',\n",
       " '22',\n",
       " '23',\n",
       " '24',\n",
       " '25',\n",
       " '26',\n",
       " '27',\n",
       " '28',\n",
       " '29']"
      ]
     },
     "execution_count": 11,
     "metadata": {},
     "output_type": "execute_result"
    }
   ],
   "source": [
    "#get the features names\n",
    "dataset.features"
   ]
  },
  {
   "cell_type": "code",
   "execution_count": 12,
   "metadata": {
    "collapsed": false
   },
   "outputs": [
    {
     "data": {
      "text/plain": [
       "True"
      ]
     },
     "execution_count": 12,
     "metadata": {},
     "output_type": "execute_result"
    }
   ],
   "source": [
    "# has label?\n",
    "dataset.has_label()"
   ]
  },
  {
   "cell_type": "code",
   "execution_count": 13,
   "metadata": {
    "collapsed": false
   },
   "outputs": [
    {
     "data": {
      "text/plain": [
       "array([1, 1, 0, 1, 1, 0, 1, 0, 0, 1, 0, 0, 0, 1, 0, 0, 1, 1, 1, 1, 0, 1,\n",
       "       1, 0, 0, 1, 1, 1, 1, 0, 0, 1, 1, 1, 1, 1, 1, 0, 0, 0, 1, 0, 0, 1,\n",
       "       1, 0, 1, 1, 0, 0, 0, 0, 0, 1, 0, 0, 1, 1, 0, 1, 0, 0, 0, 0, 0, 1,\n",
       "       0, 1, 1, 1, 1, 0, 0, 0, 0, 1, 1, 0, 0, 0, 1, 1, 0, 0, 0, 1, 0, 0,\n",
       "       0, 0, 1, 1, 1, 1, 1, 0, 1, 0, 0, 1, 0, 1, 1, 1, 1, 0, 1, 0, 1, 1,\n",
       "       1, 1, 1, 0, 0, 0, 0, 1, 1, 0, 0, 0, 1, 1, 0, 0, 1, 0, 0, 0, 1, 0,\n",
       "       1, 0, 0, 1, 1, 1, 0, 1, 1, 1, 1, 1, 0, 1, 0, 0, 0, 1])"
      ]
     },
     "execution_count": 13,
     "metadata": {},
     "output_type": "execute_result"
    }
   ],
   "source": [
    "# print the label\n",
    "dataset.y"
   ]
  },
  {
   "cell_type": "code",
   "execution_count": 14,
   "metadata": {
    "collapsed": false
   },
   "outputs": [
    {
     "data": {
      "text/plain": [
       "array([0, 1])"
      ]
     },
     "execution_count": 14,
     "metadata": {},
     "output_type": "execute_result"
    }
   ],
   "source": [
    "# get classes\n",
    "dataset.get_classes()"
   ]
  },
  {
   "cell_type": "code",
   "execution_count": 15,
   "metadata": {
    "collapsed": false
   },
   "outputs": [
    {
     "data": {
      "text/html": [
       "<div>\n",
       "<style scoped>\n",
       "    .dataframe tbody tr th:only-of-type {\n",
       "        vertical-align: middle;\n",
       "    }\n",
       "\n",
       "    .dataframe tbody tr th {\n",
       "        vertical-align: top;\n",
       "    }\n",
       "\n",
       "    .dataframe thead th {\n",
       "        text-align: right;\n",
       "    }\n",
       "</style>\n",
       "<table border=\"1\" class=\"dataframe\">\n",
       "  <thead>\n",
       "    <tr style=\"text-align: right;\">\n",
       "      <th></th>\n",
       "      <th>0</th>\n",
       "      <th>1</th>\n",
       "      <th>2</th>\n",
       "      <th>3</th>\n",
       "      <th>4</th>\n",
       "      <th>5</th>\n",
       "      <th>6</th>\n",
       "      <th>7</th>\n",
       "      <th>8</th>\n",
       "      <th>9</th>\n",
       "      <th>...</th>\n",
       "      <th>20</th>\n",
       "      <th>21</th>\n",
       "      <th>22</th>\n",
       "      <th>23</th>\n",
       "      <th>24</th>\n",
       "      <th>25</th>\n",
       "      <th>26</th>\n",
       "      <th>27</th>\n",
       "      <th>28</th>\n",
       "      <th>29</th>\n",
       "    </tr>\n",
       "  </thead>\n",
       "  <tbody>\n",
       "    <tr>\n",
       "      <th>mean</th>\n",
       "      <td>0.505224</td>\n",
       "      <td>0.495641</td>\n",
       "      <td>0.536674</td>\n",
       "      <td>0.518079</td>\n",
       "      <td>0.518573</td>\n",
       "      <td>0.494086</td>\n",
       "      <td>0.518956</td>\n",
       "      <td>0.507386</td>\n",
       "      <td>0.485507</td>\n",
       "      <td>0.463077</td>\n",
       "      <td>...</td>\n",
       "      <td>0.538754</td>\n",
       "      <td>0.518713</td>\n",
       "      <td>0.488934</td>\n",
       "      <td>0.523220</td>\n",
       "      <td>0.532053</td>\n",
       "      <td>0.497382</td>\n",
       "      <td>0.463985</td>\n",
       "      <td>0.559446</td>\n",
       "      <td>0.474880</td>\n",
       "      <td>0.519276</td>\n",
       "    </tr>\n",
       "    <tr>\n",
       "      <th>median</th>\n",
       "      <td>0.498092</td>\n",
       "      <td>0.488568</td>\n",
       "      <td>0.571538</td>\n",
       "      <td>0.516674</td>\n",
       "      <td>0.546892</td>\n",
       "      <td>0.468248</td>\n",
       "      <td>0.526553</td>\n",
       "      <td>0.521868</td>\n",
       "      <td>0.460990</td>\n",
       "      <td>0.427176</td>\n",
       "      <td>...</td>\n",
       "      <td>0.557226</td>\n",
       "      <td>0.538943</td>\n",
       "      <td>0.478486</td>\n",
       "      <td>0.529158</td>\n",
       "      <td>0.534330</td>\n",
       "      <td>0.489653</td>\n",
       "      <td>0.451247</td>\n",
       "      <td>0.576764</td>\n",
       "      <td>0.467188</td>\n",
       "      <td>0.552788</td>\n",
       "    </tr>\n",
       "    <tr>\n",
       "      <th>min</th>\n",
       "      <td>0.010516</td>\n",
       "      <td>0.033410</td>\n",
       "      <td>0.004882</td>\n",
       "      <td>0.006292</td>\n",
       "      <td>0.020139</td>\n",
       "      <td>0.001393</td>\n",
       "      <td>0.004775</td>\n",
       "      <td>0.003351</td>\n",
       "      <td>0.000849</td>\n",
       "      <td>0.003356</td>\n",
       "      <td>...</td>\n",
       "      <td>0.001220</td>\n",
       "      <td>0.013229</td>\n",
       "      <td>0.000468</td>\n",
       "      <td>0.004382</td>\n",
       "      <td>0.003822</td>\n",
       "      <td>0.004570</td>\n",
       "      <td>0.001020</td>\n",
       "      <td>0.003724</td>\n",
       "      <td>0.022977</td>\n",
       "      <td>0.001064</td>\n",
       "    </tr>\n",
       "    <tr>\n",
       "      <th>max</th>\n",
       "      <td>0.996122</td>\n",
       "      <td>0.985938</td>\n",
       "      <td>0.993056</td>\n",
       "      <td>0.994510</td>\n",
       "      <td>0.995710</td>\n",
       "      <td>0.977594</td>\n",
       "      <td>0.993907</td>\n",
       "      <td>0.997809</td>\n",
       "      <td>0.999508</td>\n",
       "      <td>0.991835</td>\n",
       "      <td>...</td>\n",
       "      <td>0.989704</td>\n",
       "      <td>0.992530</td>\n",
       "      <td>0.991380</td>\n",
       "      <td>0.997086</td>\n",
       "      <td>0.995587</td>\n",
       "      <td>0.999501</td>\n",
       "      <td>0.998643</td>\n",
       "      <td>0.995222</td>\n",
       "      <td>0.992791</td>\n",
       "      <td>0.994163</td>\n",
       "    </tr>\n",
       "    <tr>\n",
       "      <th>var</th>\n",
       "      <td>0.075040</td>\n",
       "      <td>0.074779</td>\n",
       "      <td>0.091779</td>\n",
       "      <td>0.087283</td>\n",
       "      <td>0.089546</td>\n",
       "      <td>0.095127</td>\n",
       "      <td>0.085902</td>\n",
       "      <td>0.086443</td>\n",
       "      <td>0.085082</td>\n",
       "      <td>0.082705</td>\n",
       "      <td>...</td>\n",
       "      <td>0.090431</td>\n",
       "      <td>0.076967</td>\n",
       "      <td>0.086959</td>\n",
       "      <td>0.080430</td>\n",
       "      <td>0.091456</td>\n",
       "      <td>0.077541</td>\n",
       "      <td>0.086051</td>\n",
       "      <td>0.074166</td>\n",
       "      <td>0.076369</td>\n",
       "      <td>0.078641</td>\n",
       "    </tr>\n",
       "  </tbody>\n",
       "</table>\n",
       "<p>5 rows × 30 columns</p>\n",
       "</div>"
      ],
      "text/plain": [
       "               0         1         2         3         4         5         6  \\\n",
       "mean    0.505224  0.495641  0.536674  0.518079  0.518573  0.494086  0.518956   \n",
       "median  0.498092  0.488568  0.571538  0.516674  0.546892  0.468248  0.526553   \n",
       "min     0.010516  0.033410  0.004882  0.006292  0.020139  0.001393  0.004775   \n",
       "max     0.996122  0.985938  0.993056  0.994510  0.995710  0.977594  0.993907   \n",
       "var     0.075040  0.074779  0.091779  0.087283  0.089546  0.095127  0.085902   \n",
       "\n",
       "               7         8         9  ...        20        21        22  \\\n",
       "mean    0.507386  0.485507  0.463077  ...  0.538754  0.518713  0.488934   \n",
       "median  0.521868  0.460990  0.427176  ...  0.557226  0.538943  0.478486   \n",
       "min     0.003351  0.000849  0.003356  ...  0.001220  0.013229  0.000468   \n",
       "max     0.997809  0.999508  0.991835  ...  0.989704  0.992530  0.991380   \n",
       "var     0.086443  0.085082  0.082705  ...  0.090431  0.076967  0.086959   \n",
       "\n",
       "              23        24        25        26        27        28        29  \n",
       "mean    0.523220  0.532053  0.497382  0.463985  0.559446  0.474880  0.519276  \n",
       "median  0.529158  0.534330  0.489653  0.451247  0.576764  0.467188  0.552788  \n",
       "min     0.004382  0.003822  0.004570  0.001020  0.003724  0.022977  0.001064  \n",
       "max     0.997086  0.995587  0.999501  0.998643  0.995222  0.992791  0.994163  \n",
       "var     0.080430  0.091456  0.077541  0.086051  0.074166  0.076369  0.078641  \n",
       "\n",
       "[5 rows x 30 columns]"
      ]
     },
     "execution_count": 15,
     "metadata": {},
     "output_type": "execute_result"
    }
   ],
   "source": [
    "# statistics summary\n",
    "dataset.summary()"
   ]
  },
  {
   "cell_type": "code",
   "execution_count": 4,
   "metadata": {
    "collapsed": false
   },
   "outputs": [
    {
     "data": {
      "text/html": [
       "<div>\n",
       "<style scoped>\n",
       "    .dataframe tbody tr th:only-of-type {\n",
       "        vertical-align: middle;\n",
       "    }\n",
       "\n",
       "    .dataframe tbody tr th {\n",
       "        vertical-align: top;\n",
       "    }\n",
       "\n",
       "    .dataframe thead th {\n",
       "        text-align: right;\n",
       "    }\n",
       "</style>\n",
       "<table border=\"1\" class=\"dataframe\">\n",
       "  <thead>\n",
       "    <tr style=\"text-align: right;\">\n",
       "      <th></th>\n",
       "      <th>0</th>\n",
       "      <th>1</th>\n",
       "      <th>2</th>\n",
       "      <th>3</th>\n",
       "      <th>4</th>\n",
       "      <th>5</th>\n",
       "      <th>6</th>\n",
       "      <th>7</th>\n",
       "      <th>8</th>\n",
       "    </tr>\n",
       "  </thead>\n",
       "  <tbody>\n",
       "    <tr>\n",
       "      <th>mean</th>\n",
       "      <td>4.417740</td>\n",
       "      <td>3.134478</td>\n",
       "      <td>3.207439</td>\n",
       "      <td>2.806867</td>\n",
       "      <td>3.216023</td>\n",
       "      <td>3.486409</td>\n",
       "      <td>3.437768</td>\n",
       "      <td>2.866953</td>\n",
       "      <td>1.589413</td>\n",
       "    </tr>\n",
       "    <tr>\n",
       "      <th>median</th>\n",
       "      <td>4.000000</td>\n",
       "      <td>1.000000</td>\n",
       "      <td>1.000000</td>\n",
       "      <td>1.000000</td>\n",
       "      <td>2.000000</td>\n",
       "      <td>1.000000</td>\n",
       "      <td>3.000000</td>\n",
       "      <td>1.000000</td>\n",
       "      <td>1.000000</td>\n",
       "    </tr>\n",
       "    <tr>\n",
       "      <th>min</th>\n",
       "      <td>1.000000</td>\n",
       "      <td>1.000000</td>\n",
       "      <td>1.000000</td>\n",
       "      <td>1.000000</td>\n",
       "      <td>1.000000</td>\n",
       "      <td>1.000000</td>\n",
       "      <td>1.000000</td>\n",
       "      <td>1.000000</td>\n",
       "      <td>1.000000</td>\n",
       "    </tr>\n",
       "    <tr>\n",
       "      <th>max</th>\n",
       "      <td>10.000000</td>\n",
       "      <td>10.000000</td>\n",
       "      <td>10.000000</td>\n",
       "      <td>10.000000</td>\n",
       "      <td>10.000000</td>\n",
       "      <td>10.000000</td>\n",
       "      <td>10.000000</td>\n",
       "      <td>10.000000</td>\n",
       "      <td>10.000000</td>\n",
       "    </tr>\n",
       "    <tr>\n",
       "      <th>var</th>\n",
       "      <td>7.917053</td>\n",
       "      <td>9.298082</td>\n",
       "      <td>8.819630</td>\n",
       "      <td>8.141527</td>\n",
       "      <td>4.896110</td>\n",
       "      <td>13.099601</td>\n",
       "      <td>5.937114</td>\n",
       "      <td>9.311340</td>\n",
       "      <td>2.937284</td>\n",
       "    </tr>\n",
       "  </tbody>\n",
       "</table>\n",
       "</div>"
      ],
      "text/plain": [
       "                0          1          2          3          4          5  \\\n",
       "mean     4.417740   3.134478   3.207439   2.806867   3.216023   3.486409   \n",
       "median   4.000000   1.000000   1.000000   1.000000   2.000000   1.000000   \n",
       "min      1.000000   1.000000   1.000000   1.000000   1.000000   1.000000   \n",
       "max     10.000000  10.000000  10.000000  10.000000  10.000000  10.000000   \n",
       "var      7.917053   9.298082   8.819630   8.141527   4.896110  13.099601   \n",
       "\n",
       "                6          7          8  \n",
       "mean     3.437768   2.866953   1.589413  \n",
       "median   3.000000   1.000000   1.000000  \n",
       "min      1.000000   1.000000   1.000000  \n",
       "max     10.000000  10.000000  10.000000  \n",
       "var      5.937114   9.311340   2.937284  "
      ]
     },
     "execution_count": 4,
     "metadata": {},
     "output_type": "execute_result"
    }
   ],
   "source": [
    "from si.io.data_file import read_data_file\n",
    "\n",
    "# read breast dataset from data file\n",
    "breast_dataset = read_data_file('../datasets/breast-bin.data', sep=',', label=True)\n",
    "breast_dataset.summary()"
   ]
  },
  {
   "cell_type": "code",
   "execution_count": 5,
   "metadata": {
    "collapsed": false
   },
   "outputs": [
    {
     "data": {
      "text/plain": [
       "array([1., 0., 0., 0., 1., 0., 0., 0., 0., 1., 0., 0., 0., 0., 0., 0., 0.,\n",
       "       0., 0., 1., 0., 0., 0., 0., 0., 1., 1., 1., 1., 1., 1., 0., 1., 1.,\n",
       "       0., 1., 0., 1., 0., 0., 1., 1., 0., 0., 0., 0., 1., 1., 0., 0., 0.,\n",
       "       1., 0., 0., 0., 0., 0., 0., 0., 0., 1., 1., 0., 0., 0., 0., 0., 0.,\n",
       "       0., 0., 0., 1., 1., 0., 0., 0., 0., 0., 0., 1., 0., 0., 0., 1., 1.,\n",
       "       1., 0., 0., 1., 0., 1., 0., 1., 0., 0., 1., 0., 0., 0., 0., 0., 0.,\n",
       "       0., 1., 1., 1., 1., 0., 0., 0., 0., 0., 1., 0., 0., 0., 1., 1., 0.,\n",
       "       0., 0., 0., 0., 0., 0., 0., 0., 0., 0., 0., 0., 0., 0., 1., 1., 0.,\n",
       "       1., 1., 0., 1., 1., 0., 0., 0., 0., 0., 0., 1., 0., 1., 0., 0., 1.,\n",
       "       0., 0., 0., 0., 0., 0., 0., 0., 0., 0., 0., 1., 0., 1., 0., 0., 0.,\n",
       "       0., 0., 1., 1., 1., 0., 0., 0., 1., 0., 0., 0., 0., 1., 1., 0., 0.,\n",
       "       0., 0., 1., 0., 0., 0., 0., 0., 0., 1., 1., 0., 1., 1., 0., 1., 0.,\n",
       "       0., 0., 0., 0., 0., 1., 0., 1., 0., 0., 0., 0., 0., 0., 0., 0., 1.,\n",
       "       1., 0., 1., 0., 0., 0., 0., 0., 1., 1., 0., 0., 1., 0., 1., 1., 0.,\n",
       "       1., 1., 0., 0., 1., 1., 1., 1., 0., 1., 1., 0., 0., 0., 0., 1., 0.,\n",
       "       1., 1., 1., 1., 0., 1., 1., 0., 0., 0., 0., 1., 0., 0., 0., 0., 0.,\n",
       "       0., 0., 1., 1., 1., 0., 1., 0., 0., 1., 1., 1., 1., 1., 0., 0., 0.,\n",
       "       0., 0., 1., 0., 0., 0., 0., 0., 1., 0., 1., 1., 0., 1., 0., 1., 0.,\n",
       "       0., 0., 0., 1., 1., 0., 1., 0., 0., 0., 0., 1., 0., 1., 0., 0., 0.,\n",
       "       0., 1., 1., 0., 0., 0., 1., 0., 0., 0., 0., 1., 0., 1., 0., 1., 1.,\n",
       "       0., 0., 0., 0., 0., 0., 0., 1., 0., 0., 0., 0., 0., 0., 0., 0., 0.,\n",
       "       1., 0., 0., 0., 0., 0., 0., 0., 1., 0., 1., 1., 1., 1., 0., 0., 0.,\n",
       "       0., 1., 0., 0., 0., 0., 0., 0., 0., 1., 1., 0., 0., 0., 0., 0., 0.,\n",
       "       1., 0., 0., 1., 0., 0., 0., 0., 0., 1., 0., 1., 0., 1., 0., 0., 0.,\n",
       "       0., 1., 1., 1., 1., 0., 0., 1., 0., 1., 0., 0., 1., 0., 1., 1., 1.,\n",
       "       0., 1., 0., 0., 1., 1., 1., 0., 0., 0., 0., 0., 0., 1., 0., 1., 1.,\n",
       "       0., 1., 0., 1., 1., 0., 1., 1., 0., 0., 1., 0., 1., 0., 0., 0., 0.,\n",
       "       1., 0., 0., 1., 0., 0., 1., 0., 0., 0., 0., 0., 1., 1., 1., 1., 0.,\n",
       "       0., 0., 0., 1., 1., 0., 0., 0., 0., 1., 0., 0., 0., 0., 1., 1., 0.,\n",
       "       0., 0., 0., 1., 1., 0., 0., 1., 0., 1., 0., 1., 0., 0., 0., 1., 0.,\n",
       "       0., 1., 1., 0., 1., 0., 0., 1., 1., 0., 0., 1., 1., 1., 1., 0., 0.,\n",
       "       1., 0., 1., 0., 0., 1., 0., 0., 0., 1., 1., 1., 0., 0., 1., 0., 0.,\n",
       "       0., 0., 1., 0., 0., 1., 1., 1., 1., 0., 1., 0., 0., 0., 0., 1., 0.,\n",
       "       0., 0., 0., 0., 0., 0., 0., 1., 0., 0., 1., 0., 0., 0., 0., 0., 0.,\n",
       "       1., 0., 0., 0., 0., 0., 0., 0., 1., 1., 0., 1., 0., 0., 1., 1., 1.,\n",
       "       1., 1., 0., 0., 0., 0., 0., 0., 0., 1., 1., 0., 1., 0., 1., 0., 0.,\n",
       "       1., 0., 0., 0., 1., 0., 0., 1., 1., 0., 0., 1., 0., 1., 1., 1., 0.,\n",
       "       0., 0., 0., 0., 0., 0., 1., 1., 1., 1., 1., 0., 1., 0., 0., 0., 1.,\n",
       "       0., 0., 1., 0., 0., 0., 0., 1., 0., 1., 0., 1., 1., 0., 0., 1., 1.,\n",
       "       0., 1., 0., 1., 0., 0., 0., 0., 0., 0., 1., 1., 0., 0., 0., 1., 0.,\n",
       "       1., 0., 1., 0., 0., 0., 0., 0., 0., 0., 1., 0., 1., 0., 0., 0., 0.,\n",
       "       0., 1.])"
      ]
     },
     "execution_count": 5,
     "metadata": {},
     "output_type": "execute_result"
    }
   ],
   "source": [
    "breast_dataset.y"
   ]
  },
  {
   "cell_type": "code",
   "execution_count": 6,
   "metadata": {
    "collapsed": false
   },
   "outputs": [
    {
     "name": "stdout",
     "output_type": "stream",
     "text": [
      "Features ['0', '1', '2', '3', '4', '5', '6', '7', '8']\n",
      "Label y\n"
     ]
    }
   ],
   "source": [
    "print('Features', breast_dataset.features)\n",
    "print('Label', breast_dataset.label)"
   ]
  },
  {
   "cell_type": "code",
   "execution_count": 11,
   "metadata": {
    "collapsed": false
   },
   "outputs": [],
   "source": [
    "# write the same fila with a different name\n",
    "from si.io.data_file import write_data_file\n",
    "write_data_file('../datasets/breast-bin_tabular.tsv', breast_dataset, sep='\\t', label=True)"
   ]
  },
  {
   "cell_type": "code",
   "execution_count": 7,
   "metadata": {
    "collapsed": false
   },
   "outputs": [
    {
     "data": {
      "text/html": [
       "<div>\n",
       "<style scoped>\n",
       "    .dataframe tbody tr th:only-of-type {\n",
       "        vertical-align: middle;\n",
       "    }\n",
       "\n",
       "    .dataframe tbody tr th {\n",
       "        vertical-align: top;\n",
       "    }\n",
       "\n",
       "    .dataframe thead th {\n",
       "        text-align: right;\n",
       "    }\n",
       "</style>\n",
       "<table border=\"1\" class=\"dataframe\">\n",
       "  <thead>\n",
       "    <tr style=\"text-align: right;\">\n",
       "      <th></th>\n",
       "      <th>sepal_length</th>\n",
       "      <th>sepal_width</th>\n",
       "      <th>petal_length</th>\n",
       "      <th>petal_width</th>\n",
       "    </tr>\n",
       "  </thead>\n",
       "  <tbody>\n",
       "    <tr>\n",
       "      <th>mean</th>\n",
       "      <td>5.843333</td>\n",
       "      <td>3.054000</td>\n",
       "      <td>3.758667</td>\n",
       "      <td>1.198667</td>\n",
       "    </tr>\n",
       "    <tr>\n",
       "      <th>median</th>\n",
       "      <td>5.800000</td>\n",
       "      <td>3.000000</td>\n",
       "      <td>4.350000</td>\n",
       "      <td>1.300000</td>\n",
       "    </tr>\n",
       "    <tr>\n",
       "      <th>min</th>\n",
       "      <td>4.300000</td>\n",
       "      <td>2.000000</td>\n",
       "      <td>1.000000</td>\n",
       "      <td>0.100000</td>\n",
       "    </tr>\n",
       "    <tr>\n",
       "      <th>max</th>\n",
       "      <td>7.900000</td>\n",
       "      <td>4.400000</td>\n",
       "      <td>6.900000</td>\n",
       "      <td>2.500000</td>\n",
       "    </tr>\n",
       "    <tr>\n",
       "      <th>var</th>\n",
       "      <td>0.681122</td>\n",
       "      <td>0.186751</td>\n",
       "      <td>3.092425</td>\n",
       "      <td>0.578532</td>\n",
       "    </tr>\n",
       "  </tbody>\n",
       "</table>\n",
       "</div>"
      ],
      "text/plain": [
       "        sepal_length  sepal_width  petal_length  petal_width\n",
       "mean        5.843333     3.054000      3.758667     1.198667\n",
       "median      5.800000     3.000000      4.350000     1.300000\n",
       "min         4.300000     2.000000      1.000000     0.100000\n",
       "max         7.900000     4.400000      6.900000     2.500000\n",
       "var         0.681122     0.186751      3.092425     0.578532"
      ]
     },
     "execution_count": 7,
     "metadata": {},
     "output_type": "execute_result"
    }
   ],
   "source": [
    "from si.io.csv import read_csv\n",
    "\n",
    "# read iris dataset from data file\n",
    "iris_dataset = read_csv('../datasets/iris.csv', sep=',', features=True, label=True)\n",
    "iris_dataset.summary()"
   ]
  },
  {
   "cell_type": "code",
   "execution_count": 8,
   "metadata": {
    "collapsed": false
   },
   "outputs": [
    {
     "data": {
      "text/plain": [
       "array(['Iris-setosa', 'Iris-versicolor', 'Iris-virginica'], dtype=object)"
      ]
     },
     "execution_count": 8,
     "metadata": {},
     "output_type": "execute_result"
    }
   ],
   "source": [
    "iris_dataset.get_classes()"
   ]
  },
  {
   "cell_type": "code",
   "execution_count": 10,
   "metadata": {
    "collapsed": false
   },
   "outputs": [],
   "source": [
    "# write the same file with a different name\n",
    "from si.io.csv import write_csv\n",
    "write_csv('../datasets/iris_tabular.tsv', iris_dataset, sep='\\t', features=True, label=True)"
   ]
  },
  {
   "cell_type": "code",
   "execution_count": 13,
   "metadata": {
    "collapsed": false
   },
   "outputs": [
    {
     "data": {
      "text/plain": [
       "array([0, 1, 2, 3])"
      ]
     },
     "execution_count": 13,
     "metadata": {},
     "output_type": "execute_result"
    }
   ],
   "source": [
    "# random dataset\n",
    "from si.data.dataset import Dataset\n",
    "random_dataset = Dataset.from_random(150, 30, 4)\n",
    "random_dataset.get_classes()"
   ]
  },
  {
   "cell_type": "code",
   "execution_count": 16,
   "metadata": {
    "collapsed": false
   },
   "outputs": [
    {
     "data": {
      "text/plain": [
       "array([[3.68692948e-01, 8.74545178e-01, 1.15637602e-01, ...,\n",
       "        8.83831505e-01, 8.83505205e-01, 3.94059354e-01],\n",
       "       [8.87478640e-01, 2.31762995e-01, 9.49997172e-01, ...,\n",
       "        6.40969997e-01, 1.86734952e-01, 1.00128278e-01],\n",
       "       [2.84061107e-02, 8.99152340e-01, 7.79864922e-01, ...,\n",
       "        2.32829323e-01, 4.87284743e-04, 5.04144360e-01],\n",
       "       ...,\n",
       "       [7.84345223e-02, 4.93587035e-01, 8.21694429e-01, ...,\n",
       "        8.28075353e-01, 6.01229380e-01, 1.04514501e-01],\n",
       "       [1.48671278e-01, 2.21723869e-02, 4.87616386e-01, ...,\n",
       "        6.81767357e-01, 8.69833128e-01, 4.82762773e-02],\n",
       "       [6.05429247e-01, 6.17354467e-02, 8.15244932e-01, ...,\n",
       "        1.36941954e-01, 4.93418147e-02, 2.26028206e-01]])"
      ]
     },
     "execution_count": 16,
     "metadata": {},
     "output_type": "execute_result"
    }
   ],
   "source": [
    "# from dataframe\n",
    "import numpy as np\n",
    "import pandas as pd\n",
    "\n",
    "df = pd.DataFrame(np.random.rand(150, 30))\n",
    "df_dataset = Dataset.from_dataframe(df)\n",
    "df_dataset.X"
   ]
  },
  {
   "cell_type": "code",
   "execution_count": 18,
   "metadata": {
    "collapsed": false
   },
   "outputs": [
    {
     "data": {
      "text/plain": [
       "False"
      ]
     },
     "execution_count": 18,
     "metadata": {},
     "output_type": "execute_result"
    }
   ],
   "source": [
    "df_dataset.has_label()"
   ]
  }
 ],
 "metadata": {
  "kernelspec": {
   "display_name": "Python 3.8.10 64-bit",
   "language": "python",
   "name": "python3"
  },
  "language_info": {
   "codemirror_mode": {
    "name": "ipython",
    "version": 2
   },
   "file_extension": ".py",
   "mimetype": "text/x-python",
   "name": "python",
   "nbconvert_exporter": "python",
   "pygments_lexer": "ipython2",
   "version": "3.8.10"
  },
  "vscode": {
   "interpreter": {
    "hash": "916dbcbb3f70747c44a77c7bcd40155683ae19c65e1c03b4aa3499c5328201f1"
   }
  }
 },
 "nbformat": 4,
 "nbformat_minor": 0
}
