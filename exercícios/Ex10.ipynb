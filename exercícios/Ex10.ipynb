{
 "cells": [
  {
   "cell_type": "code",
   "execution_count": 1,
   "metadata": {},
   "outputs": [],
   "source": [
    "\n",
    "import sys\n",
    "import os\n",
    "sys.path.insert(0, os.path.join(os.path.abspath(''), \"../src/\"))\n"
   ]
  },
  {
   "attachments": {},
   "cell_type": "markdown",
   "metadata": {},
   "source": [
    "# 10.3 \n",
    "Constrói um modelo de redes neuronais considerando a seguinte topologia:\n",
    "- O dataset de treino contém 32 features\n",
    "- O problema é do tipo binário\n",
    "- O modelo deve conter 3 Dense layers:\n",
    "    - Dense layer de input\n",
    "    - Dense layer com redução do número de neurónios (units) para metade\n",
    "    - Dense layer final (output)\n",
    "- Usa a SigmoidActivation como layer de ativação"
   ]
  },
  {
   "cell_type": "code",
   "execution_count": 2,
   "metadata": {},
   "outputs": [
    {
     "data": {
      "text/plain": [
       "[<si.neuronal_networks.layers.Dense at 0x207e4a35280>,\n",
       " <si.neuronal_networks.layers.SigmoidActivation at 0x207e4b52250>,\n",
       " <si.neuronal_networks.layers.Dense at 0x207e4a35100>,\n",
       " <si.neuronal_networks.layers.SigmoidActivation at 0x207e4b0a4f0>,\n",
       " <si.neuronal_networks.layers.Dense at 0x207e4b52160>,\n",
       " si.neuronal_networks.layers.SigmoidActivation]"
      ]
     },
     "execution_count": 2,
     "metadata": {},
     "output_type": "execute_result"
    }
   ],
   "source": [
    "from si.neuronal_networks.layers import Dense, SigmoidActivation\n",
    "from si.neuronal_networks.NN import NN\n",
    "layer_input = Dense(input_size=32, output_size=32)\n",
    "layer_hidden = Dense(input_size=32, output_size=16)  # metade\n",
    "layer_output = Dense(input_size=16, output_size=1)  # bin classif\n",
    "\n",
    "model_layers = [layer_input, SigmoidActivation(), layer_hidden,\n",
    "                SigmoidActivation(), layer_output, SigmoidActivation] # perguntar prof se dense é linear\n",
    "model = NN(model_layers)\n",
    "model.layers\n"
   ]
  },
  {
   "attachments": {},
   "cell_type": "markdown",
   "metadata": {},
   "source": [
    "# 10.4\n",
    "Constrói um modelo de redes neuronais considerando a seguinte topologia:\n",
    "- O dataset de treino contém 32 features\n",
    "- O problema é do tipo multiclass com 3 classes\n",
    "- O modelo deve conter 3 Dense layers:\n",
    "    - Dense layer de input\n",
    "    - Dense layer com redução do número de neurónios (units) para metade\n",
    "    - Dense layer final (output)\n",
    "- Usa a SigmoidActivation como layer de ativação\n",
    "- Usa a SoftMaxActivation como última layer de ativação"
   ]
  },
  {
   "cell_type": "code",
   "execution_count": 3,
   "metadata": {},
   "outputs": [
    {
     "data": {
      "text/plain": [
       "[<si.neuronal_networks.layers.Dense at 0x207e4a35280>,\n",
       " <si.neuronal_networks.layers.SigmoidActivation at 0x207e4b52250>,\n",
       " <si.neuronal_networks.layers.Dense at 0x207e4a35100>,\n",
       " <si.neuronal_networks.layers.SigmoidActivation at 0x207e4b0a4f0>,\n",
       " <si.neuronal_networks.layers.Dense at 0x207e4b52160>,\n",
       " si.neuronal_networks.layers.SigmoidActivation]"
      ]
     },
     "execution_count": 3,
     "metadata": {},
     "output_type": "execute_result"
    }
   ],
   "source": [
    "from si.neuronal_networks.layers import Dense, SigmoidActivation, SoftMaxActivation\n",
    "from si.neuronal_networks.NN import NN\n",
    "\n",
    "layer_input = Dense(input_size=32, output_size=32)\n",
    "layer_hidden = Dense(input_size=32, output_size=16)  # metade\n",
    "layer_output = Dense(input_size=16, output_size=1)  # bin classif\n",
    "\n",
    "model_layers = [layer_input, SigmoidActivation(), layer_hidden,\n",
    "                SigmoidActivation(), layer_output, SoftMaxActivation()]\n",
    "model.layers"
   ]
  },
  {
   "attachments": {},
   "cell_type": "markdown",
   "metadata": {},
   "source": [
    "# 10.5 \n",
    "Constrói um modelo de redes neuronais considerando a seguinte topologia:\n",
    "- O dataset de treino contém 32 features\n",
    "- O problema é do tipo regressão\n",
    "- O modelo deve conter 3 Dense layers:\n",
    "    - Dense layer de input\n",
    "    - Dense layer com redução do número de neurónios (units) para metade\n",
    "    - Dense layer final (output)\n",
    "- Usa a ReLU como layer de ativação\n",
    "- Considera que o modelo deve acabar com uma ativação linear"
   ]
  },
  {
   "cell_type": "code",
   "execution_count": 4,
   "metadata": {},
   "outputs": [
    {
     "data": {
      "text/plain": [
       "[<si.neuronal_networks.layers.Dense at 0x207fd100760>,\n",
       " <si.neuronal_networks.layers.ReLUActivation at 0x207e4b05e20>,\n",
       " <si.neuronal_networks.layers.Dense at 0x207fd100040>,\n",
       " <si.neuronal_networks.layers.ReLUActivation at 0x207e4aee790>,\n",
       " <si.neuronal_networks.layers.Dense at 0x207e4a42100>]"
      ]
     },
     "execution_count": 4,
     "metadata": {},
     "output_type": "execute_result"
    }
   ],
   "source": [
    "from si.neuronal_networks.layers import Dense, ReLUActivation\n",
    "from si.neuronal_networks.NN import NN\n",
    "\n",
    "layer_input = Dense(input_size=32, output_size=32)\n",
    "layer_hidden = Dense(input_size=32, output_size=16)  # metade\n",
    "layer_output = Dense(input_size=16, output_size=1)  # bin classif\n",
    "\n",
    "model_layers = [layer_input, ReLUActivation(), layer_hidden,\n",
    "                ReLUActivation(), layer_output] # perguntar prof se dense é linear\n",
    "model = NN(model_layers)\n",
    "model.layers"
   ]
  }
 ],
 "metadata": {
  "kernelspec": {
   "display_name": "Python 3",
   "language": "python",
   "name": "python3"
  },
  "language_info": {
   "codemirror_mode": {
    "name": "ipython",
    "version": 3
   },
   "file_extension": ".py",
   "mimetype": "text/x-python",
   "name": "python",
   "nbconvert_exporter": "python",
   "pygments_lexer": "ipython3",
   "version": "3.8.1"
  },
  "orig_nbformat": 4,
  "vscode": {
   "interpreter": {
    "hash": "c2dca2d66bc97d43c5e220dcdadbf0b620140e28847161affc7d79b7aaaa9d97"
   }
  }
 },
 "nbformat": 4,
 "nbformat_minor": 2
}
